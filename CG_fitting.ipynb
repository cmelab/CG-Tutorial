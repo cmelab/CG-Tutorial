{
 "cells": [
  {
   "cell_type": "markdown",
   "metadata": {},
   "source": [
    "# Coarse graining with CG_Compound class \n",
    "Coarse-graining is a technique which provides a computational speed-up in molecular simulation by abstracting away some atomistic detail and thus reducing the degrees of freedom. One example of a coarse-grain model is the united atom model in which hydrogen atoms are treated implicitly and lumped in with with their heavier neighbors. (e.g., a carbon bonded to three hydrogens, $CH_3$, would be treated as one bead; the bending and stretching degrees of freedom between $C-H$ would be lost.) More examples of coarse-grain models and their benefits can be found in our recent [perspective paper](https://doi.org/10.1016/j.commatsci.2019.109129). \n",
    "\n",
    "This tutorial will demonstrate how to use SMILES strings and the CG_Compound class to create a coarse-grain structure.\n",
    "\n",
    "---\n",
    "**Learning Objectives**\n",
    "1. Understand the motivation behind using a coarse-grain model.\n",
    "1. Use smiles strings to select the coarse-grain beads.\n",
    "1. Prepare a coarse-grain structure for use in molecular simulation.\n",
    "---"
   ]
  },
  {
   "cell_type": "code",
   "execution_count": null,
   "metadata": {
    "slideshow": {
     "slide_type": "fragment"
    }
   },
   "outputs": [],
   "source": [
    "import mbuild as mb\n",
    "\n",
    "# the file utils.py contains the CG_Compound class used in this tutorial\n",
    "import utils\n",
    "from utils import CG_Compound\n",
    "\n",
    "\n",
    "# dictionary of SMILES features using for coarse graining\n",
    "features = utils.features_dict"
   ]
  },
  {
   "cell_type": "code",
   "execution_count": null,
   "metadata": {},
   "outputs": [],
   "source": [
    "for feature, smiles in features.items():\n",
    "    print(feature, \":\", smiles)"
   ]
  },
  {
   "cell_type": "markdown",
   "metadata": {},
   "source": [
    "A CG_Compound uses [class inheritance](https://docs.python.org/3/tutorial/classes.html#inheritance) to build on to the [mbuild.Compound](https://mosdef.org/mbuild/data_structures.html#compound). This allows us to implement already developed tools! Any mbuild compound can be converted to a CG_Compound using `mbuild.Compound.to_pybel()` (then the `coarse` function) or `CG_Compound.from_mbuild()`. In the following cell, we create a nonane mbuild compound using only a [SMILES string](https://www.daylight.com/dayhtml/doc/theory/theory.smiles.html):"
   ]
  },
  {
   "cell_type": "code",
   "execution_count": null,
   "metadata": {},
   "outputs": [],
   "source": [
    "smiles = \"CCCCCCCCC\"\n",
    "mb_nonane = mb.load(smiles, smiles=True)\n",
    "\n",
    "mb_nonane.visualize().show();"
   ]
  },
  {
   "cell_type": "markdown",
   "metadata": {},
   "source": [
    "CG_Compound uses [pybel's SMARTS matching](http://openbabel.org/docs/current/UseTheLibrary/Python_Pybel.html#smarts-matching) to identify the beads based on the provided bead strings. Because neither the mbuild.Compound nor the CG_Compound keep track of the bond order, the bond order update has to be forced after conversion to a pybel mol. \n",
    "\n",
    "Then using the `coarse` function, the user can select a SMILES/SMARTS string used to detect the bead and a name for the bead. In this example, the three alkyl carbon SMILES string from the features dictionary generates a coarse-grain structure for nonane, which reduces the 29 atom structure to just 3 beads! "
   ]
  },
  {
   "cell_type": "code",
   "execution_count": null,
   "metadata": {},
   "outputs": [],
   "source": [
    "# convert to pybel mol\n",
    "mol = mb_nonane.to_pybel()\n",
    "\n",
    "# to_pybel imports all bonds as order=1, this will type the bond correctly\n",
    "# if the structure is good\n",
    "mol.OBMol.PerceiveBondOrders()\n",
    "\n",
    "cg_nonane = utils.coarse(mol, [(\"_C3\", features[\"alkyl_3\"])])\n",
    "\n",
    "# Visualize the compound imposed over the atomistic structure \n",
    "# with the show_atomistic flag\n",
    "cg_nonane.visualize(color_scheme={\"_C3\": \"blue\"}, show_atomistic=True).show();"
   ]
  },
  {
   "cell_type": "markdown",
   "metadata": {},
   "source": [
    "By building on the functionality of mbuild, it is straight-forward to export your coarse-grain structure to any chemical format already supported by mbuild. More about the mbuild.Compound `save` function [here](https://mosdef.org/mbuild/data_structures.html#mbuild.compound.Compound.save)."
   ]
  },
  {
   "cell_type": "code",
   "execution_count": null,
   "metadata": {},
   "outputs": [],
   "source": [
    "# Visualize just the coarse-grained compound\n",
    "cg_nonane.visualize(color_scheme={\"_C3\": \"blue\"}).show();\n",
    "\n",
    "# Save to a file. Other possible extensions include: \n",
    "# ‘hoomdxml’, ‘gro’, ‘top’, ‘lammps’, ‘lmp’, ‘json’\n",
    "cg_nonane.save(\"nonane.gsd\", overwrite=True);"
   ]
  },
  {
   "cell_type": "markdown",
   "metadata": {},
   "source": [
    "The next example shows how a coarse-grain structure can be mapped to frames of a molecular dynamics trajectory. This coarse-grain mapping could be the starting point for iterative Boltzmann inversion (IBI): an example IBI code written by McCabe's group at Vanderbilt which implements a multi-state flavor can be found [here](https://github.com/mosdef-hub/msibi). Or the coarse-grain mapping, as in the following example, can be used to automate the structure generation for an [existing model](https://doi.org/10.1016/j.fluid.2010.07.025).\n",
    "\n",
    "The trajectory file (gsd) was created using [PlanckTon](https://bitbucket.org/cmelab/planckton/src/master/) which simplifies the set up and submission of large parameter sweeps by tying together multiple simulation tools."
   ]
  },
  {
   "cell_type": "code",
   "execution_count": null,
   "metadata": {},
   "outputs": [],
   "source": [
    "# Download the gsd file\n",
    "!wget https://bitbucket.org/cmelab/msibi_tests/downloads/P3HT_4-density_0.75-n_compounds_20-traj.gsd"
   ]
  },
  {
   "cell_type": "code",
   "execution_count": null,
   "metadata": {},
   "outputs": [],
   "source": [
    "gsdfile = \"P3HT_4-density_0.75-n_compounds_20-traj.gsd\"\n",
    "\n",
    "# Coordinates are scaled from planckton sigma units\n",
    "scale_factor = 0.356\n",
    "comp0 = CG_Compound.from_gsd(gsdfile, frame=0, scale=scale_factor)\n",
    "\n",
    "# The gsd from PlanckTon was run using the General AMBER Force Field (GAFF)\n",
    "# and pybel will not correctly parse particles with AMBER typing\n",
    "comp0.amber_to_element()\n",
    "\n",
    "# Molecular dynamics simulations in HOOMD use periodic boundary conditions,\n",
    "# so, in order to identify the beads, the frame must be unwrapped.\n",
    "# The unwrap feature won't move particles if the compound doesn't have bonds\n",
    "# that span the periodic boundary -- note the \"no changes made\" message\n",
    "comp0.unwrap()\n",
    "\n",
    "mol0 = comp0.to_pybel(box=comp0.box)\n",
    "\n",
    "# to_pybel imports all bonds as order=1, this will type the bond correctly\n",
    "# if the structure is good\n",
    "mol0.OBMol.PerceiveBondOrders()"
   ]
  },
  {
   "cell_type": "markdown",
   "metadata": {},
   "source": [
    "In the following cell the coarse-grain bead strings given to the `coarse` function are a thiophene ring and three alkyl carbons. Beads representing thiophene rings will be named \"_B\" (B for backbone; the underscore is a convention used to denote a coarse-grain particle) and colored <span style=\"color:blue\">blue</span> while beads representing a group of three alkyl carbons will be named \"_S\" (S for sidechain) and colored <span style=\"color:orange\">orange</span>. **The order that the beads are specified matters!** Beads containing aromatic rings are allowed to share atoms, while non-aromatic atoms can only belong to one bead. Because of this, in general we recommend providing the bead string for aromatic before non-aromatic groups. The built-in visualization and the `show_atomistic` flag should help you to determine if the beads are being created as you expect. "
   ]
  },
  {
   "cell_type": "code",
   "execution_count": null,
   "metadata": {},
   "outputs": [],
   "source": [
    "# Notice that the initial frame is typed correctly\n",
    "# the structure is good so pybel can type it\n",
    "cg_comp0 = utils.coarse(mol0, \n",
    "                        [(\"_B\", features[\"thiophene\"]), (\"_S\",features[\"alkyl_3\"])]\n",
    "                       )\n",
    "\n",
    "cg_comp0.visualize(\n",
    "    color_scheme={\"_B\": \"blue\", \"_S\": \"orange\"}, show_atomistic=True\n",
    ").show()"
   ]
  },
  {
   "cell_type": "code",
   "execution_count": null,
   "metadata": {},
   "outputs": [],
   "source": [
    "from foyer import Forcefield\n",
    "\n",
    "cg_comp0_pmd = cg_comp0.to_parmed(box=cg_comp0.box)\n",
    "\n",
    "ff = Forcefield(forcefield_files=\"forcefields/p3ht-cg.xml\")\n",
    "\n",
    "struc = ff.apply(cg_comp0_pmd, \n",
    "                 assert_bond_params=True, \n",
    "                 assert_angle_params=True, \n",
    "                 assert_dihedral_params=False\n",
    "                )\n",
    "\n",
    "struc.save(\"cg_typed.mol2\", overwrite=True)"
   ]
  },
  {
   "cell_type": "code",
   "execution_count": null,
   "metadata": {},
   "outputs": [],
   "source": [
    "from mbuild.formats.hoomd_simulation import create_hoomd_simulation\n",
    "\n",
    "create_hoomd_simulation(struc, \n",
    "                        r_cut=1.2, \n",
    "                        snapshot_kwargs={'shift_coords':False}, \n",
    "                        auto_scale=True)\n",
    "\n",
    "import hoomd\n",
    "import hoomd.md\n",
    "import hoomd.group\n",
    "\n",
    "_all = hoomd.group.all()\n",
    "hoomd.md.integrate.mode_standard(dt=0.0001)\n",
    "integrator = hoomd.md.integrate.nvt(group=_all, kT=1.0, tau=1)\n",
    "hoomd.dump.gsd('start.gsd', period=None, group=_all, overwrite=True)\n",
    "hoomd.dump.gsd('traj.gsd', period=1e5, group=_all, phase=0, overwrite=True)\n",
    "\n",
    "hoomd.run(1e6)\n",
    "hoomd.dump.gsd('out.gsd', period=None, group=_all, overwrite=True);"
   ]
  },
  {
   "cell_type": "markdown",
   "metadata": {},
   "source": [
    "**The starting structure of the atomistic compound matters!** If your starting is unphysical (e.g., non-planar aromatic rings), then pybel's SMARTS matching will not recognise the beads correctly. In the following cells we show a workaround for the last (distorted) frame of the trajectory which works as long as the first frame has a chemically sound structure:"
   ]
  },
  {
   "cell_type": "code",
   "execution_count": null,
   "metadata": {},
   "outputs": [],
   "source": [
    "# same process as above but with last frame of trajectory\n",
    "comp1 = CG_Compound.from_gsd(gsdfile, frame=-1, scale=scale_factor)\n",
    "\n",
    "comp1.amber_to_element()\n",
    "\n",
    "# PlanckTon initializes with a large volume then shrinks, so this last frame\n",
    "# has a lot of bonds that span the periodic bounary\n",
    "comp1.visualize().show();"
   ]
  },
  {
   "cell_type": "code",
   "execution_count": null,
   "metadata": {},
   "outputs": [],
   "source": [
    "# the bonds that span the boundary can be fixed using unwrap\n",
    "# the function will iterate until all bonds are fixed\n",
    "comp1.unwrap()\n",
    "\n",
    "comp1.visualize().show();"
   ]
  },
  {
   "cell_type": "code",
   "execution_count": null,
   "metadata": {},
   "outputs": [],
   "source": [
    "mol1 = comp1.to_pybel(box=comp1.box)\n",
    "mol1.OBMol.PerceiveBondOrders()\n",
    "\n",
    "# Even with fixing pbc issues, the last frame is distorted enough that\n",
    "# pybel can't recognise the features (bendy aromatic rings are NO)\n",
    "# note the \"WARNING\" message\n",
    "cg_comp1 = utils.coarse(mol1, \n",
    "                        [(\"_B\", features[\"thiophene\"]), (\"_S\",features[\"alkyl_3\"])]\n",
    "                       )\n",
    "\n",
    "cg_comp1.visualize(\n",
    "    color_scheme={\"_B\": \"blue\", \"_S\": \"orange\"}, show_atomistic=True\n",
    ").show()"
   ]
  },
  {
   "cell_type": "code",
   "execution_count": null,
   "metadata": {},
   "outputs": [],
   "source": [
    "# But since these are from the same trajectory, they have \n",
    "# the same number of particles in the same order, so we can\n",
    "# \"fix\" the bad morphology using the good one!\n",
    "mol1_fixed = utils.map_good_on_bad(mol0, mol1)\n",
    "\n",
    "# And it's fixed =D\n",
    "cg_comp1_fixed = utils.coarse(mol1_fixed,\n",
    "                              [(\"_B\", features[\"thiophene\"]), \n",
    "                               (\"_S\", features[\"alkyl_3\"])]\n",
    "                             )\n",
    "\n",
    "cg_comp1_fixed.visualize(color_scheme={\"_B\": \"blue\", \"_S\": \"orange\"}).show();\n",
    "\n",
    "# and we can rewrap it into the box\n",
    "cg_comp1_fixed.wrap()\n",
    "\n",
    "cg_comp1_fixed.visualize(color_scheme={\"_B\": \"blue\", \"_S\": \"orange\"}).show();"
   ]
  },
  {
   "cell_type": "code",
   "execution_count": null,
   "metadata": {},
   "outputs": [],
   "source": []
  }
 ],
 "metadata": {
  "kernelspec": {
   "display_name": "Python 3",
   "language": "python",
   "name": "python3"
  },
  "language_info": {
   "codemirror_mode": {
    "name": "ipython",
    "version": 3
   },
   "file_extension": ".py",
   "mimetype": "text/x-python",
   "name": "python",
   "nbconvert_exporter": "python",
   "pygments_lexer": "ipython3",
   "version": "3.6.8"
  }
 },
 "nbformat": 4,
 "nbformat_minor": 4
}
