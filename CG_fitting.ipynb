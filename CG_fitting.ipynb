{
 "cells": [
  {
   "cell_type": "code",
   "execution_count": null,
   "metadata": {
    "slideshow": {
     "slide_type": "fragment"
    }
   },
   "outputs": [],
   "source": [
    "import mbuild as mb\n",
    "\n",
    "import utils\n",
    "\n",
    "# dictionary of SMARTS features using for coarse graining\n",
    "features = utils.features_dict\n",
    "\n",
    "for feature, smiles in features.items():\n",
    "    print(feature, smiles)"
   ]
  },
  {
   "cell_type": "markdown",
   "metadata": {},
   "source": [
    "Building from the mbuild.Compound class allows us to more easily use already-developed tools! Anything that mbuild can import can be converted to a CG_Compound "
   ]
  },
  {
   "cell_type": "code",
   "execution_count": null,
   "metadata": {},
   "outputs": [],
   "source": [
    "smiles = \"CCCCCCCCC\"\n",
    "mb_nonane = mb.load(smiles, smiles=True)\n",
    "\n",
    "nonane = utils.CG_Compound()\n",
    "\n",
    "# This from_mbuild function is very new and only copies the particles and bonds.\n",
    "# I'd be interested to know where it breaks!\n",
    "nonane.from_mbuild(mb_nonane)\n",
    "\n",
    "nonane.visualize().show()"
   ]
  },
  {
   "cell_type": "code",
   "execution_count": null,
   "metadata": {},
   "outputs": [],
   "source": [
    "# convert to pybel mol\n",
    "mol = nonane.to_pybel()\n",
    "\n",
    "# to_pybel imports all bonds as order=1, this will type the bond correctly\n",
    "# if the structure is good\n",
    "mol.OBMol.PerceiveBondOrders()\n",
    "\n",
    "cg_nonane = utils.coarse(mol, [features[\"alkyl_3\"]], atomistic=True)\n",
    "\n",
    "cg_nonane.visualize(color_scheme={\"_A\": \"pink\"}).show()"
   ]
  },
  {
   "cell_type": "markdown",
   "metadata": {},
   "source": [
    "Run these if you want to step through examples of the CG_Compound coarse-graining"
   ]
  },
  {
   "cell_type": "code",
   "execution_count": null,
   "metadata": {},
   "outputs": [],
   "source": [
    "!wget https://bitbucket.org/cmelab/msibi_tests/downloads/P3HT_4-density_0.75-n_compounds_20-traj.gsd"
   ]
  },
  {
   "cell_type": "code",
   "execution_count": null,
   "metadata": {},
   "outputs": [],
   "source": [
    "gsdfile = \"P3HT_4-density_0.75-n_compounds_20-traj.gsd\"\n",
    "\n",
    "# Coordinates are scaled from planckton sigma units\n",
    "scale_factor = 0.356\n",
    "comp0 = utils.CG_Compound.from_gsd(gsdfile, frame=0, scale=scale_factor)\n",
    "\n",
    "# pybel will not correctly parse particles with AMBER typing\n",
    "comp0.amber_to_element()\n",
    "\n",
    "# unwrap feature won't move particles if the compound doesn't have bonds\n",
    "# that span the periodic boundary -- note the warning msg\n",
    "comp0.unwrap()\n",
    "\n",
    "# to_pybel is from mbuild PR555\n",
    "mol0 = comp0.to_pybel()\n",
    "\n",
    "# to_pybel imports all bonds as order=1, this will type the bond correctly\n",
    "# if the structure is good\n",
    "mol0.OBMol.PerceiveBondOrders()"
   ]
  },
  {
   "cell_type": "code",
   "execution_count": null,
   "metadata": {},
   "outputs": [],
   "source": [
    "# Notice that the initial frame is typed correctly\n",
    "# the structure is good so pybel can type it\n",
    "cg_comp0 = utils.coarse(\n",
    "    mol0, [features[\"thiophene\"], features[\"alkyl_3\"]], atomistic=True\n",
    ")\n",
    "\n",
    "\n",
    "cg_comp0.visualize(color_scheme={\"Car\": \"black\", \"_A\": \"pink\", \"_B\": \"green\"}).show()"
   ]
  },
  {
   "cell_type": "code",
   "execution_count": null,
   "metadata": {},
   "outputs": [],
   "source": [
    "# same process as above but with last frame of trajectory\n",
    "comp1 = utils.CG_Compound.from_gsd(gsdfile, frame=-1, scale=scale_factor)\n",
    "\n",
    "comp1.amber_to_element()\n",
    "\n",
    "# clearly this thing has some pbc problems\n",
    "\n",
    "comp1.visualize(color_scheme={\"Car\": \"black\", \"_A\": \"pink\", \"_B\": \"green\"}).show()"
   ]
  },
  {
   "cell_type": "code",
   "execution_count": null,
   "metadata": {},
   "outputs": [],
   "source": [
    "# fixed\n",
    "comp1.unwrap()\n",
    "\n",
    "\n",
    "comp1.visualize(color_scheme={\"Car\": \"black\", \"_A\": \"pink\", \"_B\": \"green\"}).show()"
   ]
  },
  {
   "cell_type": "code",
   "execution_count": null,
   "metadata": {},
   "outputs": [],
   "source": [
    "mol1 = comp1.to_pybel(box=mb.Box(comp1.box))\n",
    "mol1.OBMol.PerceiveBondOrders()\n",
    "\n",
    "# Even with fixing pbc issues, the last frame is distorted enough that\n",
    "# pybel can't recognise the features (bendy aromatic rings are NO)\n",
    "cg_comp1 = utils.coarse(\n",
    "    mol1, [features[\"thiophene\"], features[\"alkyl_3\"]], atomistic=True\n",
    ")\n",
    "\n",
    "\n",
    "cg_comp1.visualize(color_scheme={\"Car\": \"black\", \"_A\": \"pink\", \"_B\": \"green\"}).show()"
   ]
  },
  {
   "cell_type": "code",
   "execution_count": null,
   "metadata": {},
   "outputs": [],
   "source": [
    "# But since these are from the same trajectory, they have\n",
    "# the same number of particles in the same order, so we can\n",
    "# \"fix\" the bad morphology using the good one!\n",
    "mol1_fixed = utils.map_good_on_bad(mol0, mol1)\n",
    "\n",
    "# Hey look it's fixed =D\n",
    "cg_comp1_fixed = utils.coarse(\n",
    "    mol1_fixed, [features[\"thiophene\"], features[\"alkyl_3\"]], atomistic=True\n",
    ")\n",
    "\n",
    "\n",
    "cg_comp1_fixed.visualize(\n",
    "    color_scheme={\"Car\": \"black\", \"_A\": \"pink\", \"_B\": \"green\"}\n",
    ").show()\n",
    "\n",
    "# and we can rewrap it into the box\n",
    "cg_comp1_fixed.wrap()\n",
    "\n",
    "\n",
    "cg_comp1_fixed.visualize(\n",
    "    color_scheme={\"Car\": \"black\", \"_A\": \"pink\", \"_B\": \"green\"}\n",
    ").show()"
   ]
  }
 ],
 "metadata": {
  "kernelspec": {
   "display_name": "Python 3",
   "language": "python",
   "name": "python3"
  },
  "language_info": {
   "codemirror_mode": {
    "name": "ipython",
    "version": 3
   },
   "file_extension": ".py",
   "mimetype": "text/x-python",
   "name": "python",
   "nbconvert_exporter": "python",
   "pygments_lexer": "ipython3",
   "version": "3.7.3"
  }
 },
 "nbformat": 4,
 "nbformat_minor": 4
}
